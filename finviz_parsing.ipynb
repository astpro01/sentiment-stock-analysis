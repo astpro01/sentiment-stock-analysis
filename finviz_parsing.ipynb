{
 "cells": [
  {
   "cell_type": "code",
   "execution_count": 12,
   "metadata": {},
   "outputs": [],
   "source": [
    "from urllib.request import urlopen, Request \n",
    "from bs4 import BeautifulSoup \n",
    "from nltk.sentiment.vader import SentimentIntensityAnalyzer \n",
    "import pandas as pd \n",
    "import matplotlib.pyplot as plt\n"
   ]
  },
  {
   "cell_type": "code",
   "execution_count": 13,
   "metadata": {},
   "outputs": [],
   "source": [
    "news_tables = {}\n",
    "finviz_url = 'https://finviz.com/quote.ashx?t='\n",
    "tickers = ['FCEL', 'PLUG', 'PLTR']\n",
    "for ticker in tickers: \n",
    "    url = finviz_url + ticker \n",
    "    req = Request(url = url, headers = {'user-agent': 'whatsapp'})\n",
    "    response = urlopen(req)\n",
    "    html = BeautifulSoup(response, 'html')\n",
    "    news_table = html.find(id = 'news-table') # Will get us the HTML object \n",
    "    news_tables[ticker] = news_table\n",
    " \n",
    "parsed_data = []\n",
    "\n",
    "for ticker, news_table in news_tables.items():\n",
    "    for row in news_table.findAll('tr'):\n",
    "        title = row.a.get_text()\n",
    "        date_data = row.td.text.split(' ')\n",
    "        \n",
    "        if len(date_data) == 1:\n",
    "            time = date[0]\n",
    "        else:\n",
    "            date = date_data[0]\n",
    "            time = date_data[1]\n",
    "        \n",
    "        parsed_data.append([ticker, date, time, title])\n",
    "        \n",
    "               "
   ]
  },
  {
   "cell_type": "code",
   "execution_count": 14,
   "metadata": {},
   "outputs": [
    {
     "name": "stdout",
     "output_type": "stream",
     "text": [
      "    ticker       date       time  \\\n",
      "0     FCEL  Mar-10-21  04:05PM     \n",
      "1     FCEL  Mar-10-21          M   \n",
      "2     FCEL  Mar-10-21          M   \n",
      "3     FCEL  Mar-10-21          M   \n",
      "4     FCEL  Mar-10-21          M   \n",
      "..     ...        ...        ...   \n",
      "295   PLTR  Feb-16-21          F   \n",
      "296   PLTR  Feb-16-21          F   \n",
      "297   PLTR  Feb-16-21          F   \n",
      "298   PLTR  Feb-15-21  07:00PM     \n",
      "299   PLTR  Feb-15-21          F   \n",
      "\n",
      "                                                 title  compound  \n",
      "0    Ballard Power Looks To Make Fuel-Cell History ...    0.0000  \n",
      "1    Why Plug Power, FuelCell Energy, and Ballard P...    0.2732  \n",
      "2        Why Hydrogen Fuel Is The Next Big Green Thing    0.0000  \n",
      "3    Analyzing FuelCell Energy's Unusual Options Ac...    0.0000  \n",
      "4    What's in Store for FuelCell Energy's (FCEL) Q...    0.0000  \n",
      "..                                                 ...       ...  \n",
      "295  Premarket Movers Tuesday - CVS, BorgWarner and...    0.0000  \n",
      "296       12 Most Influential Entrepreneurs in America    0.4927  \n",
      "297  Palantir Posts Surprise Fourth-Quarter Loss bu...    0.5106  \n",
      "298         Palantir tumbles after fourth-quarter loss   -0.3182  \n",
      "299  Palantirs 340% Rally Faces Key Tests in Earnin...    0.0000  \n",
      "\n",
      "[300 rows x 5 columns]\n"
     ]
    }
   ],
   "source": [
    "# Sentiment Analysis \n",
    "df = pd.DataFrame(parsed_data, columns = ['ticker', 'date', 'time', 'title'])\n",
    "vader = SentimentIntensityAnalyzer()\n",
    "f = lambda title: vader.polarity_scores(title)['compound']\n",
    "df['compound'] = df['title'].apply(f)\n",
    "print(df)"
   ]
  },
  {
   "cell_type": "code",
   "execution_count": 7,
   "metadata": {},
   "outputs": [
    {
     "name": "stdout",
     "output_type": "stream",
     "text": [
      "ticker          FCEL      PLTR      PLUG\n",
      "date                                    \n",
      "2020-12-30  0.273200       NaN       NaN\n",
      "2020-12-31  0.116850       NaN       NaN\n",
      "2021-01-04  0.000000       NaN       NaN\n",
      "2021-01-06  0.136600       NaN       NaN\n",
      "2021-01-07  0.117180       NaN       NaN\n",
      "2021-01-08  0.273200       NaN       NaN\n",
      "2021-01-10  0.000000       NaN       NaN\n",
      "2021-01-12  0.136600       NaN       NaN\n",
      "2021-01-13  0.407750       NaN       NaN\n",
      "2021-01-14  0.208889       NaN       NaN\n",
      "2021-01-15  0.178000       NaN       NaN\n",
      "2021-01-19  0.200950       NaN       NaN\n",
      "2021-01-20  0.000000       NaN       NaN\n",
      "2021-01-21  0.307608       NaN       NaN\n",
      "2021-01-22 -0.159100       NaN       NaN\n",
      "2021-01-25  0.542300       NaN       NaN\n",
      "2021-01-26  0.136600       NaN       NaN\n",
      "2021-01-27  0.246950       NaN       NaN\n",
      "2021-01-28  0.091067       NaN       NaN\n",
      "2021-01-29 -0.011025       NaN       NaN\n",
      "2021-01-31  0.273200       NaN       NaN\n",
      "2021-02-02  0.136600       NaN       NaN\n",
      "2021-02-03  0.273200       NaN       NaN\n",
      "2021-02-05  0.555867       NaN       NaN\n",
      "2021-02-06  0.000000       NaN       NaN\n",
      "2021-02-07  0.273200       NaN       NaN\n",
      "2021-02-08  0.000000       NaN       NaN\n",
      "2021-02-09  0.273200       NaN       NaN\n",
      "2021-02-10  0.493900       NaN       NaN\n",
      "2021-02-11  0.000000       NaN       NaN\n",
      "2021-02-12  0.271150       NaN       NaN\n",
      "2021-02-15  0.273200 -0.159100       NaN\n",
      "2021-02-16  0.493900  0.249816  0.493900\n",
      "2021-02-17  0.000000 -0.052733  0.000000\n",
      "2021-02-18 -0.118650  0.004470  0.148000\n",
      "2021-02-19  0.000000 -0.010591  0.151820\n",
      "2021-02-20  0.000000       NaN  0.000000\n",
      "2021-02-21       NaN  0.000000  0.088950\n",
      "2021-02-22       NaN  0.235700  0.000000\n",
      "2021-02-23  0.000000  0.246680  0.000000\n",
      "2021-02-24       NaN  0.127267  0.136600\n",
      "2021-02-25 -0.571900  0.000000 -0.120892\n",
      "2021-02-26  0.202300  0.177040 -0.031483\n",
      "2021-02-27       NaN  0.148000       NaN\n",
      "2021-02-28  0.000000       NaN  0.000000\n",
      "2021-03-01       NaN  0.074500  0.069667\n",
      "2021-03-02  0.318200  0.000000  0.195940\n",
      "2021-03-03       NaN  0.292950  0.223300\n",
      "2021-03-04  0.493900 -0.190633  0.493900\n",
      "2021-03-05  0.273200  0.000000  0.145357\n",
      "2021-03-06       NaN       NaN -0.128000\n",
      "2021-03-07       NaN  0.421500  0.000000\n",
      "2021-03-08  0.182133 -0.144667 -0.049200\n",
      "2021-03-09  0.273200 -0.060200  0.226544\n",
      "2021-03-10  0.054640 -0.087800  0.166479\n"
     ]
    },
    {
     "data": {
      "text/plain": [
       "<Figure size 720x576 with 0 Axes>"
      ]
     },
     "metadata": {},
     "output_type": "display_data"
    },
    {
     "data": {
      "image/png": "[encoded data removed]",
      "text/plain": [
       "<Figure size 432x288 with 1 Axes>"
      ]
     },
     "metadata": {
      "needs_background": "light"
     },
     "output_type": "display_data"
    }
   ],
   "source": [
    "# Visualizing the Data\n",
    "df['date'] = pd.to_datetime(df.date).dt.date\n",
    "plt.figure(figsize=(10,8))\n",
    "\n",
    "mean_df = df.groupby(['ticker', 'date']).mean()\n",
    "mean_df = mean_df.unstack()\n",
    "mean_df = mean_df.xs('compound', axis = 'columns').transpose()\n",
    "mean_df.plot(kind = 'bar')\n",
    "print(mean_df)\n",
    "plt.savefig('books_read.png')"
   ]
  },
  {
   "cell_type": "code",
   "execution_count": null,
   "metadata": {},
   "outputs": [],
   "source": []
  },
  {
   "cell_type": "code",
   "execution_count": null,
   "metadata": {},
   "outputs": [],
   "source": []
  }
 ],
 "metadata": {
  "kernelspec": {
   "display_name": "Python 3",
   "language": "python",
   "name": "python3"
  },
  "language_info": {
   "codemirror_mode": {
    "name": "ipython",
    "version": 3
   },
   "file_extension": ".py",
   "mimetype": "text/x-python",
   "name": "python",
   "nbconvert_exporter": "python",
   "pygments_lexer": "ipython3",
   "version": "3.8.5"
  }
 },
 "nbformat": 4,
 "nbformat_minor": 4
}
